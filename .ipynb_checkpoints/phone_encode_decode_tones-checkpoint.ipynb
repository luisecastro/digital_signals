{
 "cells": [
  {
   "cell_type": "markdown",
   "metadata": {
    "collapsed": true
   },
   "source": [
    "### Tone frequencies"
   ]
  },
  {
   "cell_type": "code",
   "execution_count": 1,
   "metadata": {
    "collapsed": true
   },
   "outputs": [],
   "source": [
    "import pandas as pd\n",
    "import numpy  as np"
   ]
  },
  {
   "cell_type": "markdown",
   "metadata": {},
   "source": [
    "**Telephone tone frequencies**"
   ]
  },
  {
   "cell_type": "markdown",
   "metadata": {},
   "source": [
    "![](tones.png)"
   ]
  },
  {
   "cell_type": "markdown",
   "metadata": {
    "collapsed": true
   },
   "source": [
    "**Tone generator**"
   ]
  },
  {
   "cell_type": "code",
   "execution_count": 2,
   "metadata": {
    "collapsed": true
   },
   "outputs": [],
   "source": [
    "def tg(num='0',length=1,sr=8000):          #Tone generator\n",
    "    t = np.linspace(1/sr,length,sr*length) #Create the space for the tone, \n",
    "                                           #defaults: length = 1 (sec), sr=8000 (sample rate = 8000 samples / sec)\n",
    "    if num == '*':                         #Change to number index\n",
    "        num = 10\n",
    "    elif num == '#':\n",
    "        num = 11\n",
    "    else:\n",
    "        num = int(num)\n",
    "    \n",
    "    def w_freq(f):                         #Change degrees to rads\n",
    "        return 2*np.pi*f\n",
    "    \n",
    "    tones = pd.Series([[941,1336],         #Frequencies matrix\n",
    "                       [697,1209],\n",
    "                       [697,1336],\n",
    "                       [697,1477],\n",
    "                       [770,1209],\n",
    "                       [770,1336],\n",
    "                       [770,1477],\n",
    "                       [852,1209],\n",
    "                       [852,1336],\n",
    "                       [852,1477],\n",
    "                       [941,1209],   \n",
    "                       [941,1477]])\n",
    "\n",
    "    return np.sin(w_freq(tones.ix[num][0])*t)+np.sin(w_freq(tones.ix[num][1])*t) #Create number tone by adding the\n",
    "                                                                                 #2 frequencies"
   ]
  },
  {
   "cell_type": "markdown",
   "metadata": {},
   "source": [
    "**Tone decoder**"
   ]
  },
  {
   "cell_type": "code",
   "execution_count": 3,
   "metadata": {
    "collapsed": true
   },
   "outputs": [],
   "source": [
    "def td(tone,sr=8000): #Tone decoder\n",
    "    freqs = list(sorted(pd.Series(abs(np.fft.fft(tone)))[:int(sr/2)].sort_values(ascending=False).head(2).index,reverse=True))\n",
    "                      #Extract tones from signal using fast fourier transform, it will return twice the number\n",
    "                      #of frequencies we are interested on, so we retrieve only the first half. Sort the values by\n",
    "                      #magnitude (abs(X+jY)), we are interested only on the 2 top frequencies. This frequencies will be the \n",
    "                      #coordinates on the matrix to find the number dialed\n",
    "    \n",
    "    lookup = pd.DataFrame([['1','2','3'],\n",
    "                           ['4','5','6'],\n",
    "                           ['7','8','9'],\n",
    "                           ['*','0','#']],\n",
    "                          columns=[1209,1336,1477],\n",
    "                          index=[697,770,852,941])\n",
    "    \n",
    "    if freqs[1] not in lookup.index or freqs[0] not in lookup.columns: #If either of the frequencies do not correspond\n",
    "        print('not valid tone')                                        #to a valid frequency, return nan\n",
    "        return np.nan\n",
    "    \n",
    "    return lookup.ix[freqs[1]].ix[freqs[0]] #Return number"
   ]
  },
  {
   "cell_type": "markdown",
   "metadata": {},
   "source": [
    "**Test**"
   ]
  },
  {
   "cell_type": "code",
   "execution_count": 4,
   "metadata": {
    "collapsed": false,
    "scrolled": true
   },
   "outputs": [
    {
     "name": "stdout",
     "output_type": "stream",
     "text": [
      "0\n",
      "1\n",
      "2\n",
      "3\n",
      "4\n",
      "5\n",
      "6\n",
      "7\n",
      "8\n",
      "9\n",
      "*\n",
      "#\n"
     ]
    }
   ],
   "source": [
    "for i in range(12):\n",
    "    print(td(tg(num=str(i))))"
   ]
  },
  {
   "cell_type": "markdown",
   "metadata": {},
   "source": [
    "We could add a filter for noise for a more robust encoder/decoder."
   ]
  }
 ],
 "metadata": {
  "kernelspec": {
   "display_name": "Python 3",
   "language": "python",
   "name": "python3"
  },
  "language_info": {
   "codemirror_mode": {
    "name": "ipython",
    "version": 3
   },
   "file_extension": ".py",
   "mimetype": "text/x-python",
   "name": "python",
   "nbconvert_exporter": "python",
   "pygments_lexer": "ipython3",
   "version": "3.6.0"
  }
 },
 "nbformat": 4,
 "nbformat_minor": 2
}
