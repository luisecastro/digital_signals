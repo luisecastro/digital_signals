{
 "cells": [
  {
   "cell_type": "markdown",
   "metadata": {},
   "source": [
    "# Signal to Noise ratio"
   ]
  },
  {
   "cell_type": "markdown",
   "metadata": {},
   "source": [
    "Signal to noise ratio abbreviated SNR or S/N is a relationship between a signal and the noise in a communications channel.\n",
    "\n",
    "It can be expresed directly as a ration (x/y) or in dB."
   ]
  },
  {
   "cell_type": "markdown",
   "metadata": {},
   "source": [
    "SNR = (Psignal)/(Pnoise)\n",
    "\n",
    "Psignal = mean power of the signal (in Watts)\n",
    "Pnoise  = mean power of the noise  (in Watts)\n",
    "\n",
    "Noise has usually 0 mean (AWGN or additive white Gaussian noise) \n",
    "- Additive because it is added to the signal\n",
    "- White because it covers the whole spectrum of frequencies (akin to white light covering the whole spectrum of colors)\n",
    "- Gaussian because it has a normal distribution\n",
    "- Noise because it is undesired \n",
    "\n",
    "If the variance of the signal and the noise are known and the signal has 0 mean (audio for example) then:\n",
    "\n",
    "SNR = (variance of signal)/(variance of noise)\n",
    "\n",
    "The SNR can also be measured with voltages (or currents) using the RMS values.\n",
    "\n",
    "SNR = (Psignal)/(Pnoise) = (VrmsSignal^2/Z)/(VrmsNoise^2/Z) = (VrmsSignal/VrmsNoise)^2\n",
    "\n",
    "Z = Impedance\n",
    "\n",
    "Another way to express it is using dB.\n",
    "\n",
    "PsignaldB = 10 log10 (Psignal)\n",
    "PnoisedB  = 10 log10 (Pnoise)\n",
    "\n",
    "SNR = 10 log10 (Psignal/Pnoise) = 10 log10 (Psignal) - 10 log10 (Pnoise)\n",
    "SNR = 20 log10 (VrmsSignal/VrmsNoise)\n",
    "\n",
    "And for non negative variables:\n",
    "\n",
    "SNR = mu (signal mean) / variance of noise"
   ]
  },
  {
   "cell_type": "markdown",
   "metadata": {},
   "source": [
    "**Causes of noise**"
   ]
  },
  {
   "cell_type": "markdown",
   "metadata": {},
   "source": [
    "*All real measurements are disturbed by noise. This includes electronic noise, but can also include external events that affect the measured phenomenon — wind, vibrations, gravitational attraction of the moon, variations of temperature, variations of humidity, etc., depending on what is measured and of the sensitivity of the device. It is often possible to reduce the noise by controlling the environment. Otherwise, when the characteristics of the noise are known and are different from the signals, it is possible to filter it or to process the signal.* [1](https://en.wikipedia.org/wiki/Signal-to-noise_ratio)\n",
    "\n",
    "In digital signals:\n",
    "\n",
    "*When a measurement is digitized, the number of bits used to represent the measurement determines the maximum possible signal-to-noise ratio. This is because the minimum possible noise level is the error caused by the quantization of the signal, sometimes called Quantization noise. This noise level is non-linear and signal-dependent; different calculations exist for different signal models. Quantization noise is modeled as an analog error signal summed with the signal before quantization (\"additive noise\").*\n",
    "\n",
    "*This theoretical maximum SNR assumes a perfect input signal. If the input signal is already noisy (as is usually the case), the signal's noise may be larger than the quantization noise. Real analog-to-digital converters also have other sources of noise that further decrease the SNR compared to the theoretical maximum from the idealized quantization noise, including the intentional addition of dither.*"
   ]
  },
  {
   "cell_type": "markdown",
   "metadata": {},
   "source": [
    "**SNR calculation with Noise Spectral Density**\n",
    "\n",
    "- Transmit power = 36dB\n",
    "- Noise spectral density = -174dB/Hz (AWGN)\n",
    "- Bandwidth- = 10MHz"
   ]
  },
  {
   "cell_type": "markdown",
   "metadata": {},
   "source": [
    "Pnoise = [1mW*10^(NSD/10) = 1mw*10^(-174/10)]*[10^6] = 3.981071705534985e-14"
   ]
  },
  {
   "cell_type": "code",
   "execution_count": 10,
   "metadata": {
    "collapsed": false
   },
   "outputs": [
    {
     "name": "stdout",
     "output_type": "stream",
     "text": [
      "3.981071705534985e-14\n"
     ]
    }
   ],
   "source": [
    "pnoise = (10**-3)*(10**(-174/10))*10**7\n",
    "print(pnoise)"
   ]
  },
  {
   "cell_type": "markdown",
   "metadata": {},
   "source": [
    "PsignaldB = 36 = 10*log10(Psignal)\n",
    "\n",
    "10^(36/10) = Psignal  "
   ]
  },
  {
   "cell_type": "code",
   "execution_count": 19,
   "metadata": {
    "collapsed": false
   },
   "outputs": [
    {
     "data": {
      "text/plain": [
       "170.0"
      ]
     },
     "execution_count": 19,
     "metadata": {},
     "output_type": "execute_result"
    }
   ],
   "source": [
    "10*np.log10((10**(36/10))/3.981071705534985e-14)"
   ]
  }
 ],
 "metadata": {
  "kernelspec": {
   "display_name": "Python 3",
   "language": "python",
   "name": "python3"
  },
  "language_info": {
   "codemirror_mode": {
    "name": "ipython",
    "version": 3
   },
   "file_extension": ".py",
   "mimetype": "text/x-python",
   "name": "python",
   "nbconvert_exporter": "python",
   "pygments_lexer": "ipython3",
   "version": "3.6.0"
  }
 },
 "nbformat": 4,
 "nbformat_minor": 2
}
